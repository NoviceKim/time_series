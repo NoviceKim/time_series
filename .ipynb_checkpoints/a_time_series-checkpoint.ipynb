{
 "cells": [
  {
   "cell_type": "markdown",
   "id": "1d83529b-7fd3-40bf-b579-15c3fa3cde0b",
   "metadata": {},
   "source": [
    "### 시계열 데이터 (Time Series)\n",
    "- 시간의 흐름에 따라 기록된 정보들을 의미하며, 관측시간에 대한 관측자료의 관계로 표현한다.\n",
    "- 시간 흐름에 따라 변화하는 방향성을 이해하고, 그 변화를 예측하는 것이 주 목적이다.\n",
    "- 시계열 데이터의 유형에는 우연변동 시계열, 계절 변동 시계열, 추세 변동 시계열, 계절-추세 변동 시계열 데이터가 있다.\n",
    "- 자료의 인덱스가 시간인 데이터다."
   ]
  },
  {
   "cell_type": "markdown",
   "id": "1f8978bc-ec6b-44be-b35c-ba6054a9435a",
   "metadata": {},
   "source": [
    "#### 우연변동 시계열\n",
    "- 특정한 패턴이나 추세 없이 우연한 요소에 의해 변하는 데이터다.\n",
    "- 패턴이나 규칙이 없고 우연히 발생하는 것처럼 보인다."
   ]
  },
  {
   "cell_type": "code",
   "execution_count": 3,
   "id": "6c7df3e4-fcbd-41c2-9957-c82268a65bd6",
   "metadata": {},
   "outputs": [
    {
     "data": {
      "text/html": [
       "<div>\n",
       "<style scoped>\n",
       "    .dataframe tbody tr th:only-of-type {\n",
       "        vertical-align: middle;\n",
       "    }\n",
       "\n",
       "    .dataframe tbody tr th {\n",
       "        vertical-align: top;\n",
       "    }\n",
       "\n",
       "    .dataframe thead th {\n",
       "        text-align: right;\n",
       "    }\n",
       "</style>\n",
       "<table border=\"1\" class=\"dataframe\">\n",
       "  <thead>\n",
       "    <tr style=\"text-align: right;\">\n",
       "      <th></th>\n",
       "      <th>0</th>\n",
       "    </tr>\n",
       "  </thead>\n",
       "  <tbody>\n",
       "    <tr>\n",
       "      <th>2022-12-31</th>\n",
       "      <td>1406</td>\n",
       "    </tr>\n",
       "    <tr>\n",
       "      <th>2023-03-31</th>\n",
       "      <td>1254</td>\n",
       "    </tr>\n",
       "    <tr>\n",
       "      <th>2023-06-30</th>\n",
       "      <td>1289</td>\n",
       "    </tr>\n",
       "    <tr>\n",
       "      <th>2023-09-30</th>\n",
       "      <td>1497</td>\n",
       "    </tr>\n",
       "    <tr>\n",
       "      <th>2023-12-31</th>\n",
       "      <td>1208</td>\n",
       "    </tr>\n",
       "  </tbody>\n",
       "</table>\n",
       "</div>"
      ],
      "text/plain": [
       "               0\n",
       "2022-12-31  1406\n",
       "2023-03-31  1254\n",
       "2023-06-30  1289\n",
       "2023-09-30  1497\n",
       "2023-12-31  1208"
      ]
     },
     "metadata": {},
     "output_type": "display_data"
    }
   ],
   "source": [
    "import pandas as pd\n",
    "import matplotlib.pyplot as plt\n",
    "\n",
    "# 우연변동 시계열 데이터 생성\n",
    "random1 = [1342, 1442, 1252, 1343, \n",
    "           1425, 1362, 1256, 1272, \n",
    "           1243, 1359, 1412, 1253, \n",
    "           1201, 1478, 1322, 1406, \n",
    "           1254, 1289, 1497, 1208]\n",
    "\n",
    "# \n",
    "idx = pd.date_range(start='2019-01', periods=len(random1), freq='Q')\n",
    "random1_ts = pd.DataFrame(random1, index=idx)\n",
    "\n",
    "display(random1_ts.tail())"
   ]
  },
  {
   "cell_type": "markdown",
   "id": "b7815d39-0e48-489d-82b9-6da36bfdccbe",
   "metadata": {},
   "source": [
    "### 계절 변동 시계열\n",
    "- 특정한 시간 주기(예시: 1달, 1년 등)에 따라 발생하는 패턴이 나타나는 데이터다.\n",
    "- 특정 시간에 특정 사건이 반복된다."
   ]
  },
  {
   "cell_type": "code",
   "execution_count": null,
   "id": "57a19519-7f37-46cb-86b0-24db5fb09faa",
   "metadata": {},
   "outputs": [],
   "source": []
  },
  {
   "cell_type": "markdown",
   "id": "0c70d038-c448-4a75-ae67-d07a369be935",
   "metadata": {},
   "source": [
    "### 추세 변동 시계열\n",
    "- 시간에 따라 일정한 방향으로 계속해서 증가하거나 감소하는 추세를 보이는 데이터다.\n",
    "- 일정한 방향으로 계속해서 증가하거나 감소한다."
   ]
  },
  {
   "cell_type": "code",
   "execution_count": null,
   "id": "d4fff272-4cf1-460c-8704-6c1612ed10e6",
   "metadata": {},
   "outputs": [],
   "source": []
  },
  {
   "cell_type": "markdown",
   "id": "7fe4de85-5cdd-4034-998d-3ebed6ef02a7",
   "metadata": {},
   "source": [
    "### 계절-추세 변동 시계열\n",
    "- 추세와 계절성 요인이 함께 나타나는 데이터로,  \n",
    "  시간에 따른 일정한 추세와 특정 시간 주기에 따른 패턴이 동시에 나타나는 데이터다.\n",
    "- 시간의 흐름에 따라 "
   ]
  },
  {
   "cell_type": "code",
   "execution_count": null,
   "id": "a7c2096e-ebad-40f4-a37f-661f242a9929",
   "metadata": {},
   "outputs": [],
   "source": []
  },
  {
   "cell_type": "code",
   "execution_count": null,
   "id": "16f0f5d7-33e2-40ea-8cd4-4e532e758179",
   "metadata": {},
   "outputs": [],
   "source": []
  },
  {
   "cell_type": "code",
   "execution_count": null,
   "id": "c086d9a5-24f4-4aa6-b155-5b245cfce612",
   "metadata": {},
   "outputs": [],
   "source": []
  },
  {
   "cell_type": "code",
   "execution_count": null,
   "id": "b410ef85-b7db-4b98-84d7-809ae6c52aaa",
   "metadata": {},
   "outputs": [],
   "source": []
  },
  {
   "cell_type": "code",
   "execution_count": null,
   "id": "bed32fc5-3c8b-4640-be88-f93f8840757f",
   "metadata": {},
   "outputs": [],
   "source": []
  }
 ],
 "metadata": {
  "kernelspec": {
   "display_name": "Python 3 (ipykernel)",
   "language": "python",
   "name": "python3"
  },
  "language_info": {
   "codemirror_mode": {
    "name": "ipython",
    "version": 3
   },
   "file_extension": ".py",
   "mimetype": "text/x-python",
   "name": "python",
   "nbconvert_exporter": "python",
   "pygments_lexer": "ipython3",
   "version": "3.11.8"
  }
 },
 "nbformat": 4,
 "nbformat_minor": 5
}
