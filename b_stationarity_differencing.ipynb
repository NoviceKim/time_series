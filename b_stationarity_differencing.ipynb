{
 "cells": [
  {
   "cell_type": "markdown",
   "id": "5634842c-3bc4-40ef-b5de-daf6d31204a4",
   "metadata": {},
   "source": [
    "### 정상성 (Stationarity)\n",
    "- 일정해서 늘 한결같은 성질을 의미한다.\n",
    "- 관측된 시간에 상관 없이 과거, 현재, 미래의 분포가 같아야 한다.\n",
    "- 평균, 분산 등이 변하지 않으며 추세나 계절성이 없는 시계열 데이터다.\n",
    "- 하지만, 정상성을 나타내는 시계열은 장기적으로 볼 때  \n",
    "  예측할 수 있는 패턴을 나타내지 않아야 한다. 즉, 불규칙해야 한다.\n",
    "- 즉, 어떤 특정 주기로 반복되는 계절성이나 증가 또는 감소하는 추세성이 없어야 한다.\n",
    "\n",
    "<img src='./images/stationarity.png' width='800px'>"
   ]
  }
 ],
 "metadata": {
  "kernelspec": {
   "display_name": "Python 3 (ipykernel)",
   "language": "python",
   "name": "python3"
  },
  "language_info": {
   "codemirror_mode": {
    "name": "ipython",
    "version": 3
   },
   "file_extension": ".py",
   "mimetype": "text/x-python",
   "name": "python",
   "nbconvert_exporter": "python",
   "pygments_lexer": "ipython3",
   "version": "3.11.8"
  }
 },
 "nbformat": 4,
 "nbformat_minor": 5
}
